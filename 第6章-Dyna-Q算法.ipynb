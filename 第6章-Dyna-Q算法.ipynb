{
 "cells": [
  {
   "cell_type": "code",
   "execution_count": 1,
   "metadata": {
    "executionInfo": {
     "elapsed": 692,
     "status": "ok",
     "timestamp": 1649955038244,
     "user": {
      "displayName": "Sam Lu",
      "userId": "15789059763790170725"
     },
     "user_tz": -480
    },
    "id": "dB-atd8Y-vy7"
   },
   "outputs": [],
   "source": [
    "import matplotlib.pyplot as plt\n",
    "import numpy as np\n",
    "from tqdm import tqdm\n",
    "import random\n",
    "import time\n",
    "\n",
    "\n",
    "class CliffWalkingEnv:\n",
    "    def __init__(self, ncol, nrow):\n",
    "        self.nrow = nrow\n",
    "        self.ncol = ncol\n",
    "        self.x = 0  # 记录当前智能体位置的横坐标\n",
    "        self.y = self.nrow - 1  # 记录当前智能体位置的纵坐标\n",
    "\n",
    "    def step(self, action):  # 外部调用这个函数来改变当前位置\n",
    "        # 4种动作, change[0]:上, change[1]:下, change[2]:左, change[3]:右。坐标系原点(0,0)\n",
    "        # 定义在左上角\n",
    "        change = [[0, -1], [0, 1], [-1, 0], [1, 0]]\n",
    "        self.x = min(self.ncol - 1, max(0, self.x + change[action][0]))\n",
    "        self.y = min(self.nrow - 1, max(0, self.y + change[action][1]))\n",
    "        next_state = self.y * self.ncol + self.x\n",
    "        reward = -1\n",
    "        done = False\n",
    "        if self.y == self.nrow - 1 and self.x > 0:  # 下一个位置在悬崖或者目标\n",
    "            done = True\n",
    "            if self.x != self.ncol - 1:\n",
    "                reward = -100\n",
    "        return next_state, reward, done\n",
    "\n",
    "    def reset(self):  # 回归初始状态,起点在左上角\n",
    "        self.x = 0\n",
    "        self.y = self.nrow - 1\n",
    "        return self.y * self.ncol + self.x"
   ]
  },
  {
   "cell_type": "code",
   "execution_count": 2,
   "metadata": {
    "executionInfo": {
     "elapsed": 9,
     "status": "ok",
     "timestamp": 1649955038245,
     "user": {
      "displayName": "Sam Lu",
      "userId": "15789059763790170725"
     },
     "user_tz": -480
    },
    "id": "VZx5sBiD-vy9"
   },
   "outputs": [],
   "source": [
    "class DynaQ:\n",
    "    \"\"\" Dyna-Q算法：结合真实交互与模拟回放，提升学习效率 \"\"\"\n",
    "    def __init__(self,\n",
    "                 ncol,\n",
    "                 nrow,\n",
    "                 epsilon,\n",
    "                 alpha,\n",
    "                 gamma,\n",
    "                 n_planning,\n",
    "                 n_action=4):\n",
    "        self.Q_table = np.zeros([nrow * ncol, n_action])  # 初始化 Q(s,a) 表为 0\n",
    "        self.n_action = n_action  # 动作数量（如上下左右）\n",
    "        self.alpha = alpha  # 学习率：控制 Q 值更新幅度\n",
    "        self.gamma = gamma  # 折扣因子：权衡未来回报的重要性\n",
    "        self.epsilon = epsilon  # ε-贪婪策略中的探索率（探索 vs 利用）\n",
    "\n",
    "        self.n_planning = n_planning  # 每次真实交互后，进行多少次“模拟更新”\n",
    "        self.model = dict()  # 模型用于保存环境的“记忆”，键为 (s, a)，值为 (r, s')\n",
    "    \n",
    "    def take_action(self, state):\n",
    "        \"\"\" ε-贪婪策略选动作 \"\"\"\n",
    "        if np.random.random() < self.epsilon:\n",
    "            action = np.random.randint(self.n_action)  # 探索：随机选一个动作\n",
    "        else:\n",
    "            action = np.argmax(self.Q_table[state])    # 利用：选 Q 值最大的动作\n",
    "        return action\n",
    "\n",
    "    def q_learning(self, s0, a0, r, s1):\n",
    "        \"\"\" 标准 Q-learning 更新规则：用于真实和模拟更新 \"\"\"\n",
    "        td_error = r + self.gamma * self.Q_table[s1].max() - self.Q_table[s0, a0]\n",
    "        self.Q_table[s0, a0] += self.alpha * td_error\n",
    "\n",
    "    def update(self, s0, a0, r, s1):\n",
    "        \"\"\"\n",
    "        Dyna-Q 核心更新步骤：\n",
    "        1. 用真实环境反馈 (s0, a0, r, s1) 做一次 Q-learning 更新\n",
    "        2. 存入模型：用于后续模拟\n",
    "        3. 执行 n_planning 次模拟交互，提升学习效率\n",
    "        \"\"\"\n",
    "        # Step 1: 用真实数据做 Q-learning 更新\n",
    "        self.q_learning(s0, a0, r, s1)\n",
    "\n",
    "        # Step 2: 记忆这次真实交互，添加到模型中\n",
    "        self.model[(s0, a0)] = (r, s1)\n",
    "\n",
    "        # Step 3: 模拟交互（从记忆中随机抽样并更新）\n",
    "        for _ in range(self.n_planning):\n",
    "            (s, a), (r_sim, s_next_sim) = random.choice(list(self.model.items()))\n",
    "            self.q_learning(s, a, r_sim, s_next_sim)"
   ]
  },
  {
   "cell_type": "code",
   "execution_count": 11,
   "metadata": {
    "executionInfo": {
     "elapsed": 10,
     "status": "ok",
     "timestamp": 1649955038246,
     "user": {
      "displayName": "Sam Lu",
      "userId": "15789059763790170725"
     },
     "user_tz": -480
    },
    "id": "NOMaPWZS-vy9"
   },
   "outputs": [],
   "source": [
    "def DynaQ_CliffWalking(n_planning):\n",
    "    # 设置 Cliff Walking 环境的网格大小\n",
    "    ncol = 12\n",
    "    nrow = 4\n",
    "    env = CliffWalkingEnv(ncol, nrow)\n",
    "\n",
    "    # 初始化超参数\n",
    "    epsilon = 0.01       # 探索率（几乎是贪婪策略）\n",
    "    alpha = 0.1          # 学习率\n",
    "    gamma = 0.9          # 折扣因子\n",
    "    agent = DynaQ(ncol, nrow, epsilon, alpha, gamma, n_planning)  # 创建 Dyna-Q 智能体\n",
    "\n",
    "    num_episodes = 5000   # 总共执行 300 个 episode（完整的序列）\n",
    "\n",
    "    return_list = []     # 用于记录每个 episode 的总回报\n",
    "\n",
    "    for i in range(10):  # 把 300 个 episode 分成 10 组（每组 50 次）\n",
    "        with tqdm(total=int(num_episodes / 10), desc='Iteration %d' % i) as pbar:\n",
    "            for i_episode in range(int(num_episodes / 10)):\n",
    "                episode_return = 0      # 当前 episode 的累积回报\n",
    "                state = env.reset()     # 初始化环境，获取初始状态\n",
    "                done = False\n",
    "\n",
    "                # 每个 episode 内循环直到达到终止状态\n",
    "                while not done:\n",
    "                    action = agent.take_action(state)              # 根据当前策略选择动作\n",
    "                    next_state, reward, done = env.step(action)   # 执行动作，获取下一状态和奖励\n",
    "                    episode_return += reward                      # 累加回报\n",
    "                    agent.update(state, action, reward, next_state)  # Dyna-Q更新：Q学习 + 模拟学习\n",
    "                    state = next_state                            # 更新当前状态\n",
    "\n",
    "                return_list.append(episode_return)  # 存储该条 episode 的回报\n",
    "\n",
    "                # 每 10 个 episode 打印一次平均回报\n",
    "                if (i_episode + 1) % 10 == 0:\n",
    "                    pbar.set_postfix({\n",
    "                        'episode': '%d' % (num_episodes / 10 * i + i_episode + 1),\n",
    "                        'return': '%.3f' % np.mean(return_list[-10:])  # 打印最近 10 个回报的平均值\n",
    "                    })\n",
    "                pbar.update(1)  # 更新进度条\n",
    "\n",
    "    return return_list  # 返回所有 episode 的回报，用于画图或分析"
   ]
  },
  {
   "cell_type": "markdown",
   "metadata": {},
   "source": [
    "![planning](pic/6_planning.png)\n"
   ]
  },
  {
   "cell_type": "code",
   "execution_count": 12,
   "metadata": {
    "colab": {
     "base_uri": "https://localhost:8080/",
     "height": 868
    },
    "executionInfo": {
     "elapsed": 4145,
     "status": "ok",
     "timestamp": 1649955042382,
     "user": {
      "displayName": "Sam Lu",
      "userId": "15789059763790170725"
     },
     "user_tz": -480
    },
    "id": "26Jk6HKF-vy-",
    "outputId": "5bfb06b4-aacd-4fe1-ab92-c0e216e56dc6"
   },
   "outputs": [
    {
     "name": "stdout",
     "output_type": "stream",
     "text": [
      "Q-planning步数为：0\n"
     ]
    },
    {
     "name": "stderr",
     "output_type": "stream",
     "text": [
      "Iteration 0: 100%|██████████| 500/500 [00:00<00:00, 4197.06it/s, episode=500, return=-13.000]\n",
      "Iteration 1: 100%|██████████| 500/500 [00:00<00:00, 4645.38it/s, episode=1000, return=-13.400]\n",
      "Iteration 2: 100%|██████████| 500/500 [00:00<00:00, 9295.60it/s, episode=1500, return=-13.000]\n",
      "Iteration 3: 100%|██████████| 500/500 [00:00<00:00, 8703.83it/s, episode=2000, return=-22.500]\n",
      "Iteration 4: 100%|██████████| 500/500 [00:00<00:00, 5212.14it/s, episode=2500, return=-13.000]\n",
      "Iteration 5: 100%|██████████| 500/500 [00:00<00:00, 10143.62it/s, episode=3000, return=-13.000]\n",
      "Iteration 6: 100%|██████████| 500/500 [00:00<00:00, 5208.17it/s, episode=3500, return=-13.200] \n",
      "Iteration 7: 100%|██████████| 500/500 [00:00<00:00, 9560.97it/s, episode=4000, return=-13.000] \n",
      "Iteration 8: 100%|██████████| 500/500 [00:00<00:00, 9392.48it/s, episode=4500, return=-22.300]\n",
      "Iteration 9: 100%|██████████| 500/500 [00:00<00:00, 5171.97it/s, episode=5000, return=-13.000] \n"
     ]
    },
    {
     "name": "stdout",
     "output_type": "stream",
     "text": [
      "Q-planning步数为：2\n"
     ]
    },
    {
     "name": "stderr",
     "output_type": "stream",
     "text": [
      "Iteration 0: 100%|██████████| 500/500 [00:00<00:00, 3484.54it/s, episode=500, return=-13.400]\n",
      "Iteration 1: 100%|██████████| 500/500 [00:00<00:00, 4588.46it/s, episode=1000, return=-13.000]\n",
      "Iteration 2: 100%|██████████| 500/500 [00:00<00:00, 3442.01it/s, episode=1500, return=-13.000]\n",
      "Iteration 3: 100%|██████████| 500/500 [00:00<00:00, 4883.97it/s, episode=2000, return=-13.100]\n",
      "Iteration 4: 100%|██████████| 500/500 [00:00<00:00, 5079.53it/s, episode=2500, return=-13.200]\n",
      "Iteration 5: 100%|██████████| 500/500 [00:00<00:00, 3546.15it/s, episode=3000, return=-32.100]\n",
      "Iteration 6: 100%|██████████| 500/500 [00:00<00:00, 4131.52it/s, episode=3500, return=-22.800]\n",
      "Iteration 7: 100%|██████████| 500/500 [00:00<00:00, 3419.58it/s, episode=4000, return=-13.200]\n",
      "Iteration 8: 100%|██████████| 500/500 [00:00<00:00, 4895.95it/s, episode=4500, return=-13.000]\n",
      "Iteration 9: 100%|██████████| 500/500 [00:00<00:00, 5069.76it/s, episode=5000, return=-21.700]\n"
     ]
    },
    {
     "name": "stdout",
     "output_type": "stream",
     "text": [
      "Q-planning步数为：20\n"
     ]
    },
    {
     "name": "stderr",
     "output_type": "stream",
     "text": [
      "Iteration 0: 100%|██████████| 500/500 [00:00<00:00, 846.84it/s, episode=500, return=-13.000]\n",
      "Iteration 1: 100%|██████████| 500/500 [00:00<00:00, 1072.24it/s, episode=1000, return=-22.700]\n",
      "Iteration 2: 100%|██████████| 500/500 [00:00<00:00, 938.54it/s, episode=1500, return=-13.200]\n",
      "Iteration 3: 100%|██████████| 500/500 [00:00<00:00, 1134.40it/s, episode=2000, return=-13.000]\n",
      "Iteration 4: 100%|██████████| 500/500 [00:00<00:00, 1005.80it/s, episode=2500, return=-13.000]\n",
      "Iteration 5: 100%|██████████| 500/500 [00:00<00:00, 1126.10it/s, episode=3000, return=-13.100]\n",
      "Iteration 6: 100%|██████████| 500/500 [00:00<00:00, 1019.58it/s, episode=3500, return=-13.000]\n",
      "Iteration 7: 100%|██████████| 500/500 [00:00<00:00, 1129.41it/s, episode=4000, return=-13.000]\n",
      "Iteration 8: 100%|██████████| 500/500 [00:00<00:00, 1038.49it/s, episode=4500, return=-13.300]\n",
      "Iteration 9: 100%|██████████| 500/500 [00:00<00:00, 1065.49it/s, episode=5000, return=-13.100]\n"
     ]
    },
    {
     "data": {
      "image/png": "[encoded data removed]",
      "text/plain": [
       "<Figure size 640x480 with 1 Axes>"
      ]
     },
     "metadata": {},
     "output_type": "display_data"
    }
   ],
   "source": [
    "# 设置随机种子，保证实验结果可复现\n",
    "np.random.seed(0)\n",
    "random.seed(0)\n",
    "# 设置三个不同的 planning 次数：0（纯Q-learning）、2、20，用于对比实验\n",
    "n_planning_list = [0, 2, 20]\n",
    "\n",
    "for n_planning in n_planning_list:  # 遍历不同的 planning 次数\n",
    "    print('Q-planning步数为：%d' % n_planning)  # 打印当前 planning 步数\n",
    "    time.sleep(0.5)  # 稍作延迟，美化输出体验\n",
    "\n",
    "    return_list = DynaQ_CliffWalking(n_planning)  # 调用训练函数，获得每个 episode 的回报\n",
    "    episodes_list = list(range(len(return_list)))  # 构造 x 轴：episode 序号\n",
    "\n",
    "    plt.plot(episodes_list,\n",
    "             return_list,\n",
    "             label=str(n_planning) + ' planning steps')  # 绘制每条曲线，对应不同 n_planning 值\n",
    "\n",
    "plt.legend()\n",
    "plt.xlabel('Episodes')\n",
    "plt.ylabel('Returns')\n",
    "plt.title('Dyna-Q on {}'.format('Cliff Walking'))\n",
    "plt.show()\n"
   ]
  },
  {
   "cell_type": "markdown",
   "metadata": {},
   "source": [
    "为什么在 300 时有效，在 5000 时不明显？  \n",
    "\n",
    "1. Dyna-Q 的强项是“加速前期收敛”  \n",
    "\t•\t它通过模型模拟的数据，提前让 Q 值“见过”更多状态-动作对。  \n",
    "\t•\t在训练早期（如前几十或上百个 episode），真实经验不够，planning 就特别有用。  \n",
    "\n",
    "到了 5000，所有状态-动作都已经访问多次，即使没有 planning，Q-learning 也能补回来。此时 Dyna-Q 模拟带来的优势就被稀释了。  "
   ]
  }
 ],
 "metadata": {
  "colab": {
   "collapsed_sections": [],
   "name": "第6章-Dyna-Q算法.ipynb",
   "provenance": []
  },
  "kernelspec": {
   "display_name": "wenet",
   "language": "python",
   "name": "python3"
  },
  "language_info": {
   "codemirror_mode": {
    "name": "ipython",
    "version": 3
   },
   "file_extension": ".py",
   "mimetype": "text/x-python",
   "name": "python",
   "nbconvert_exporter": "python",
   "pygments_lexer": "ipython3",
   "version": "3.9.18"
  }
 },
 "nbformat": 4,
 "nbformat_minor": 1
}
